{
 "cells": [
  {
   "cell_type": "code",
   "execution_count": 1,
   "metadata": {},
   "outputs": [],
   "source": [
    "from __future__ import annotations\n",
    "from typing import Optional, Tuple\n",
    "import pandas as pd \n",
    "from copy import deepcopy\n",
    "from scipy.stats.contingency import odds_ratio\n",
    "import matplotlib.pyplot as plt\n",
    "import seaborn as sns\n",
    "import warnings\n",
    "import seaborn as sns\n",
    "import numpy as np\n",
    "from collections import defaultdict\n",
    "\n",
    "warnings.filterwarnings('ignore')\n",
    "%matplotlib inline\n",
    "%load_ext autoreload\n",
    "%autoreload 2\n",
    "\n",
    "pd.options.display.float_format = \"{:,.2f}\".format\n",
    "pd.set_option('display.max_colwidth', None)\n",
    "pd.set_option('display.max_columns', None)\n",
    "pd.set_option('display.width', 200)"
   ]
  },
  {
   "cell_type": "code",
   "execution_count": 2,
   "metadata": {},
   "outputs": [],
   "source": [
    "# load to dataframe\n",
    "INFILE = '/home/grace/work/SEER/data/SEER_2010_2020.clean.tsv'\n",
    "master = pd.read_csv(INFILE, header=0, sep='\\t', na_values='.')"
   ]
  },
  {
   "cell_type": "markdown",
   "metadata": {},
   "source": [
    "Formatting"
   ]
  },
  {
   "cell_type": "code",
   "execution_count": 3,
   "metadata": {},
   "outputs": [
    {
     "name": "stdout",
     "output_type": "stream",
     "text": [
      "Missing 0 codes.\n"
     ]
    }
   ],
   "source": [
    "# basic formatting\n",
    "from util_funcs import do_basic_formatting\n",
    "HISTTYPES_PATH = '/home/grace/work/SEER/data/histology/histcodes.tsv'\n",
    "df = do_basic_formatting(master, HISTTYPES_PATH)"
   ]
  },
  {
   "cell_type": "code",
   "execution_count": 12,
   "metadata": {},
   "outputs": [
    {
     "data": {
      "text/plain": [
       "behavior\n",
       "MALIGNANT     4614088\n",
       "BENIGN         620539\n",
       "BORDERLINE      15310\n",
       "Name: count, dtype: int64"
      ]
     },
     "execution_count": 12,
     "metadata": {},
     "output_type": "execute_result"
    }
   ],
   "source": [
    "df['behavior'].value_counts()\n",
    "# 73973 records\n",
    "# 71510 patients"
   ]
  },
  {
   "cell_type": "markdown",
   "metadata": {},
   "source": [
    "Filtering for incidence"
   ]
  },
  {
   "cell_type": "code",
   "execution_count": 9,
   "metadata": {},
   "outputs": [
    {
     "name": "stdout",
     "output_type": "stream",
     "text": [
      "\n",
      "\n",
      "--- FILTERING: KEEP PATIENTS WITH 2+ RECORDS ---\n",
      "\n",
      "Removed: 4310645 patients, 4310645 records\n",
      "Remaining [Yes Brain Met]: 6474 patients\n",
      "Remaining [Non Brain Met]: 432425 patients\n",
      "\n",
      "Table peek (no bm):\n",
      "   patient_id           cancer_type  diagnosis_year  patient_death_year  brain_met\n",
      "0         340                Breast            2012                 NaN      False\n",
      "1         340                Breast            2013                 NaN      False\n",
      "2        1009              Prostate            2013            2,021.00      False\n",
      "3        1009                Ureter            2019            2,021.00      False\n",
      "4        1030  Melanoma of the Skin            2015                 NaN      False\n",
      "\n",
      "Table peek (yes bm):\n",
      "     patient_id           cancer_type  diagnosis_year  patient_death_year  brain_met\n",
      "232       24007       Urinary Bladder            2010            2,012.00      False\n",
      "233       24007  Melanoma of the Skin            2010            2,012.00      False\n",
      "234       24007     Lung and Bronchus            2012            2,012.00       True\n",
      "295       69340  Melanoma of the Skin            2014            2,016.00      False\n",
      "296       69340     Lung and Bronchus            2016            2,016.00       True\n",
      "\n",
      "\n",
      "--- FILTERING: REMOVE PATIENTS WITH BRAIN MET ON FIRST CONTACT ---\n",
      "\n",
      "Removed: 2163 patients, 4449 records\n",
      "Remaining [Yes Brain Met]: 4311 patients\n",
      "Remaining [Non Brain Met]: 432425 patients\n",
      "\n",
      "Table peek (no bm):\n",
      "   patient_id           cancer_type  diagnosis_year  patient_death_year  brain_met\n",
      "0         340                Breast            2012                 NaN      False\n",
      "1         340                Breast            2013                 NaN      False\n",
      "2        1009              Prostate            2013            2,021.00      False\n",
      "3        1009                Ureter            2019            2,021.00      False\n",
      "4        1030  Melanoma of the Skin            2015                 NaN      False\n",
      "\n",
      "Table peek (yes bm):\n",
      "     patient_id           cancer_type  diagnosis_year  patient_death_year  brain_met\n",
      "232       24007       Urinary Bladder            2010            2,012.00      False\n",
      "233       24007  Melanoma of the Skin            2010            2,012.00      False\n",
      "234       24007     Lung and Bronchus            2012            2,012.00       True\n",
      "295       69340  Melanoma of the Skin            2014            2,016.00      False\n",
      "296       69340     Lung and Bronchus            2016            2,016.00       True\n",
      "\n",
      "\n",
      "--- FILTERING: REMOVE RECORDS AFTER BRAIN MET DETECTED ---\n",
      "\n",
      "Removed: 0 patients, 981 records\n",
      "Remaining [Yes Brain Met]: 4311 patients\n",
      "Remaining [Non Brain Met]: 432425 patients\n",
      "\n",
      "Table peek (no bm):\n",
      "   patient_id           cancer_type  diagnosis_year  patient_death_year  brain_met\n",
      "0         340                Breast            2012                 NaN      False\n",
      "1         340                Breast            2013                 NaN      False\n",
      "2        1009              Prostate            2013            2,021.00      False\n",
      "3        1009                Ureter            2019            2,021.00      False\n",
      "4        1030  Melanoma of the Skin            2015                 NaN      False\n",
      "\n",
      "Table peek (yes bm):\n",
      "     patient_id           cancer_type  diagnosis_year  patient_death_year  brain_met\n",
      "232       24007       Urinary Bladder            2010            2,012.00      False\n",
      "233       24007  Melanoma of the Skin            2010            2,012.00      False\n",
      "234       24007     Lung and Bronchus            2012            2,012.00       True\n",
      "295       69340  Melanoma of the Skin            2014            2,016.00      False\n",
      "296       69340     Lung and Bronchus            2016            2,016.00       True\n",
      "\n",
      "\n",
      "--- FILTERING: KEEP PATIENTS WITH 2+ DIAGNOSIS_YEARS ON RECORD ---\n",
      "\n",
      "Removed: 131727 patients, 268118 records\n",
      "Remaining [Yes Brain Met]: 3524 patients\n",
      "Remaining [Non Brain Met]: 301485 patients\n",
      "\n",
      "Table peek (no bm):\n",
      "   patient_id           cancer_type  diagnosis_year  patient_death_year  brain_met\n",
      "0         340                Breast            2012                 NaN      False\n",
      "1         340                Breast            2013                 NaN      False\n",
      "2        1009              Prostate            2013            2,021.00      False\n",
      "3        1009                Ureter            2019            2,021.00      False\n",
      "4        1030  Melanoma of the Skin            2015                 NaN      False\n",
      "\n",
      "Table peek (yes bm):\n",
      "     patient_id           cancer_type  diagnosis_year  patient_death_year  brain_met\n",
      "192       24007       Urinary Bladder            2010            2,012.00      False\n",
      "193       24007  Melanoma of the Skin            2010            2,012.00      False\n",
      "194       24007     Lung and Bronchus            2012            2,012.00       True\n",
      "238       69340  Melanoma of the Skin            2014            2,016.00      False\n",
      "239       69340     Lung and Bronchus            2016            2,016.00       True\n"
     ]
    }
   ],
   "source": [
    "from util_funcs import filter_for_incidence\n",
    "filt_df = filter_for_incidence(df)"
   ]
  },
  {
   "cell_type": "code",
   "execution_count": 24,
   "metadata": {},
   "outputs": [
    {
     "data": {
      "text/plain": [
       "patient_id\n",
       "11203054    3\n",
       "33670569    3\n",
       "16495938    2\n",
       "20287358    2\n",
       "5602847     2\n",
       "54791158    2\n",
       "1322461     2\n",
       "16546818    2\n",
       "62533859    2\n",
       "22243098    2\n",
       "46786824    2\n",
       "35428799    2\n",
       "32197103    2\n",
       "35724432    2\n",
       "11037217    2\n",
       "22319491    2\n",
       "50088477    2\n",
       "11025458    2\n",
       "11046129    2\n",
       "5835031     2\n",
       "62546325    2\n",
       "Name: count, dtype: int64"
      ]
     },
     "execution_count": 24,
     "metadata": {},
     "output_type": "execute_result"
    }
   ],
   "source": [
    "# filt_df[filt_df['patient_id']==340]\n",
    "# filt_df['behavior'].value_counts()\n",
    "# filt_df.groupby('patient_id')['cancer_type'].unique()\n",
    "view = filt_df[filt_df['brain_met']==True]['patient_id'].value_counts().sort_values(ascending=False)\n",
    "view[view >= 2]"
   ]
  },
  {
   "cell_type": "code",
   "execution_count": 26,
   "metadata": {},
   "outputs": [
    {
     "data": {
      "text/html": [
       "<div>\n",
       "<style scoped>\n",
       "    .dataframe tbody tr th:only-of-type {\n",
       "        vertical-align: middle;\n",
       "    }\n",
       "\n",
       "    .dataframe tbody tr th {\n",
       "        vertical-align: top;\n",
       "    }\n",
       "\n",
       "    .dataframe thead th {\n",
       "        text-align: right;\n",
       "    }\n",
       "</style>\n",
       "<table border=\"1\" class=\"dataframe\">\n",
       "  <thead>\n",
       "    <tr style=\"text-align: right;\">\n",
       "      <th></th>\n",
       "      <th>patient_id</th>\n",
       "      <th>patient_death_year</th>\n",
       "      <th>diagnosis_year</th>\n",
       "      <th>diagnosis_agebin</th>\n",
       "      <th>cancer_type</th>\n",
       "      <th>cancer_group</th>\n",
       "      <th>primary_type</th>\n",
       "      <th>primary_group</th>\n",
       "      <th>t_stage_ajcc</th>\n",
       "      <th>n_stage_ajcc</th>\n",
       "      <th>g_stage_ajcc</th>\n",
       "      <th>t_stage_src</th>\n",
       "      <th>n_stage_src</th>\n",
       "      <th>g_stage_src</th>\n",
       "      <th>grade</th>\n",
       "      <th>grade_src</th>\n",
       "      <th>regional_nodes</th>\n",
       "      <th>behavior</th>\n",
       "      <th>num_malignant_tumors</th>\n",
       "      <th>num_benign_tumors</th>\n",
       "      <th>psa</th>\n",
       "      <th>breast_subtype</th>\n",
       "      <th>hist_type</th>\n",
       "      <th>hist_cateogry</th>\n",
       "      <th>brain_met</th>\n",
       "      <th>bone_met</th>\n",
       "      <th>lung_met</th>\n",
       "      <th>liver_met</th>\n",
       "      <th>distant_ln</th>\n",
       "      <th>hist_type_descr</th>\n",
       "    </tr>\n",
       "  </thead>\n",
       "  <tbody>\n",
       "    <tr>\n",
       "      <th>151346</th>\n",
       "      <td>16495938</td>\n",
       "      <td>2,013.00</td>\n",
       "      <td>2012</td>\n",
       "      <td>80-84 years</td>\n",
       "      <td>Melanoma of the Skin</td>\n",
       "      <td>Skin</td>\n",
       "      <td>Melanoma of the Skin</td>\n",
       "      <td>Skin</td>\n",
       "      <td>T2a</td>\n",
       "      <td>N0</td>\n",
       "      <td>IB</td>\n",
       "      <td>NaN</td>\n",
       "      <td>NaN</td>\n",
       "      <td>NaN</td>\n",
       "      <td>NaN</td>\n",
       "      <td>NaN</td>\n",
       "      <td>NaN</td>\n",
       "      <td>MALIGNANT</td>\n",
       "      <td>3</td>\n",
       "      <td>0</td>\n",
       "      <td>NaN</td>\n",
       "      <td>NaN</td>\n",
       "      <td>8721</td>\n",
       "      <td>nevi and melanomas</td>\n",
       "      <td>False</td>\n",
       "      <td>False</td>\n",
       "      <td>False</td>\n",
       "      <td>False</td>\n",
       "      <td>NaN</td>\n",
       "      <td>Nodular melanoma</td>\n",
       "    </tr>\n",
       "    <tr>\n",
       "      <th>151347</th>\n",
       "      <td>16495938</td>\n",
       "      <td>2,013.00</td>\n",
       "      <td>2013</td>\n",
       "      <td>80-84 years</td>\n",
       "      <td>Lung and Bronchus</td>\n",
       "      <td>Lung and Bronchus</td>\n",
       "      <td>Lung and Bronchus</td>\n",
       "      <td>Lung and Bronchus</td>\n",
       "      <td>T2</td>\n",
       "      <td>N2</td>\n",
       "      <td>IV</td>\n",
       "      <td>NaN</td>\n",
       "      <td>NaN</td>\n",
       "      <td>NaN</td>\n",
       "      <td>NaN</td>\n",
       "      <td>NaN</td>\n",
       "      <td>NaN</td>\n",
       "      <td>MALIGNANT</td>\n",
       "      <td>3</td>\n",
       "      <td>0</td>\n",
       "      <td>NaN</td>\n",
       "      <td>NaN</td>\n",
       "      <td>8010</td>\n",
       "      <td>epithelial neoplasms, NOS</td>\n",
       "      <td>True</td>\n",
       "      <td>False</td>\n",
       "      <td>True</td>\n",
       "      <td>False</td>\n",
       "      <td>NaN</td>\n",
       "      <td>Carcinoma [+ others]</td>\n",
       "    </tr>\n",
       "    <tr>\n",
       "      <th>151348</th>\n",
       "      <td>16495938</td>\n",
       "      <td>2,013.00</td>\n",
       "      <td>2013</td>\n",
       "      <td>80-84 years</td>\n",
       "      <td>Lung and Bronchus</td>\n",
       "      <td>Lung and Bronchus</td>\n",
       "      <td>Lung and Bronchus</td>\n",
       "      <td>Lung and Bronchus</td>\n",
       "      <td>T2</td>\n",
       "      <td>N2</td>\n",
       "      <td>IV</td>\n",
       "      <td>NaN</td>\n",
       "      <td>NaN</td>\n",
       "      <td>NaN</td>\n",
       "      <td>NaN</td>\n",
       "      <td>NaN</td>\n",
       "      <td>NaN</td>\n",
       "      <td>MALIGNANT</td>\n",
       "      <td>3</td>\n",
       "      <td>0</td>\n",
       "      <td>NaN</td>\n",
       "      <td>NaN</td>\n",
       "      <td>8070</td>\n",
       "      <td>squamous cell neoplasms</td>\n",
       "      <td>True</td>\n",
       "      <td>False</td>\n",
       "      <td>True</td>\n",
       "      <td>False</td>\n",
       "      <td>NaN</td>\n",
       "      <td>Actinic kertosis [+ others]</td>\n",
       "    </tr>\n",
       "  </tbody>\n",
       "</table>\n",
       "</div>"
      ],
      "text/plain": [
       "        patient_id  patient_death_year  diagnosis_year diagnosis_agebin           cancer_type       cancer_group          primary_type      primary_group t_stage_ajcc n_stage_ajcc g_stage_ajcc  \\\n",
       "151346    16495938            2,013.00            2012      80-84 years  Melanoma of the Skin               Skin  Melanoma of the Skin               Skin          T2a           N0           IB   \n",
       "151347    16495938            2,013.00            2013      80-84 years     Lung and Bronchus  Lung and Bronchus     Lung and Bronchus  Lung and Bronchus           T2           N2           IV   \n",
       "151348    16495938            2,013.00            2013      80-84 years     Lung and Bronchus  Lung and Bronchus     Lung and Bronchus  Lung and Bronchus           T2           N2           IV   \n",
       "\n",
       "       t_stage_src n_stage_src  g_stage_src grade grade_src regional_nodes   behavior  num_malignant_tumors  num_benign_tumors  psa breast_subtype hist_type              hist_cateogry  brain_met  \\\n",
       "151346         NaN         NaN          NaN   NaN       NaN            NaN  MALIGNANT                     3                  0  NaN            NaN      8721         nevi and melanomas      False   \n",
       "151347         NaN         NaN          NaN   NaN       NaN            NaN  MALIGNANT                     3                  0  NaN            NaN      8010  epithelial neoplasms, NOS       True   \n",
       "151348         NaN         NaN          NaN   NaN       NaN            NaN  MALIGNANT                     3                  0  NaN            NaN      8070    squamous cell neoplasms       True   \n",
       "\n",
       "       bone_met lung_met liver_met distant_ln              hist_type_descr  \n",
       "151346    False    False     False        NaN             Nodular melanoma  \n",
       "151347    False     True     False        NaN         Carcinoma [+ others]  \n",
       "151348    False     True     False        NaN  Actinic kertosis [+ others]  "
      ]
     },
     "execution_count": 26,
     "metadata": {},
     "output_type": "execute_result"
    }
   ],
   "source": [
    "filt_df[filt_df['patient_id']==16495938]"
   ]
  },
  {
   "cell_type": "markdown",
   "metadata": {},
   "source": [
    "Formatting for incidence"
   ]
  },
  {
   "cell_type": "code",
   "execution_count": 8,
   "metadata": {},
   "outputs": [
    {
     "ename": "NameError",
     "evalue": "name 'filt_df' is not defined",
     "output_type": "error",
     "traceback": [
      "\u001b[0;31m---------------------------------------------------------------------------\u001b[0m",
      "\u001b[0;31mNameError\u001b[0m                                 Traceback (most recent call last)",
      "Cell \u001b[0;32mIn[8], line 2\u001b[0m\n\u001b[1;32m      1\u001b[0m \u001b[38;5;28;01mfrom\u001b[39;00m \u001b[38;5;21;01mutil_funcs\u001b[39;00m \u001b[38;5;28;01mimport\u001b[39;00m format_for_incidence\n\u001b[0;32m----> 2\u001b[0m fmt_df \u001b[38;5;241m=\u001b[39m format_for_incidence(\u001b[43mfilt_df\u001b[49m)\n",
      "\u001b[0;31mNameError\u001b[0m: name 'filt_df' is not defined"
     ]
    }
   ],
   "source": [
    "from util_funcs import format_for_incidence\n",
    "fmt_df = format_for_incidence(filt_df)\n"
   ]
  },
  {
   "cell_type": "code",
   "execution_count": null,
   "metadata": {},
   "outputs": [],
   "source": [
    "DISPLAY_FIELDS = ['patient_id', 'cancer_type', 'diagnosis_year', 'patient_death_year', 'brain_met', 'timepoint2', 'observed']\n",
    "print(fmt_df[fmt_df['observed']==False][DISPLAY_FIELDS].head(15))\n",
    "print()\n",
    "print(fmt_df[fmt_df['observed']==True][DISPLAY_FIELDS].head(15))\n",
    "\n",
    "# what to do about patient like this???\n",
    "#     patient_id                       cancer_type  diagnosis_year  patient_death_year  brain_met  timepoint2  observed\n",
    "# 9         1040                            Breast            2014                 NaN      False      2020.0     False\n",
    "# 9         1040           Kidney and Renal Pelvis            2016                 NaN      False      2020.0     False"
   ]
  },
  {
   "cell_type": "code",
   "execution_count": null,
   "metadata": {},
   "outputs": [],
   "source": [
    "from util_funcs import finalise_incidence_df\n",
    "incidence_df = finalise_incidence_df(fmt_df)"
   ]
  },
  {
   "cell_type": "code",
   "execution_count": null,
   "metadata": {},
   "outputs": [],
   "source": [
    "DISPLAY_FIELDS = ['patient_id', 'cancer_type', 'diagnosis_year', 'patient_death_year', 'timepoint2', 'observed']\n",
    "print(incidence_df[incidence_df['observed']==False][DISPLAY_FIELDS].head(10))\n",
    "print()\n",
    "print(incidence_df[incidence_df['observed']==True][DISPLAY_FIELDS].head(10))"
   ]
  },
  {
   "cell_type": "code",
   "execution_count": 158,
   "metadata": {},
   "outputs": [],
   "source": [
    "%matplotlib inline\n",
    "import matplotlib.pyplot as plt\n",
    "from sksurv.nonparametric import kaplan_meier_estimator\n",
    "\n",
    "def plot_survival(df: pd.DataFrame, label: str) -> None:\n",
    "    # mysubset = merged.loc[merged['cancer_type']=='Melanoma of the Skin']\n",
    "    # mysubset = merged.loc[merged['cancer_type']=='Lung and Bronchus']\n",
    "    time, survival_prob, conf_int = kaplan_meier_estimator(\n",
    "        df[\"observed\"], df[\"timerange\"], conf_type=\"log-log\"\n",
    "    )\n",
    "    plt.step(time, survival_prob, where=\"post\", label=label)\n",
    "    plt.fill_between(time, conf_int[0], conf_int[1], alpha=0.25, step=\"post\")\n",
    "    plt.ylim(0.92, 1)\n",
    "    plt.xlim(0.9, 11)\n",
    "    plt.ylabel(r\"est. probability of no brain metastasis\")\n",
    "    plt.xlabel(\"time $t$\")\n",
    "    plt.legend()\n",
    "    plt.title('Testing')\n"
   ]
  },
  {
   "cell_type": "code",
   "execution_count": 160,
   "metadata": {},
   "outputs": [],
   "source": [
    "# Incidence = (New Cases) / (Population x Timeframe)\n",
    "\n",
    "# the issue here is it's biased against patients with denovo brain met at first contact. \n",
    "# this data just says \"for patients which DIDNT have bm at first contact, how many went on to develop bm\"\n",
    "\n",
    "# TODO for survival plots, add patients back-in which present with brain met at initial contact. \n",
    "\n",
    "DISPLAY_FIELDS = ['patient_id', 'cancer_type', 'diagnosis_year', 'patient_death_year', 'timepoint2', 'observed']\n",
    "\n",
    "def calc_incidence_rates(feature: str, df: pd.DataFrame) -> pd.DataFrame:\n",
    "    INCIDENCE_LABEL = 'incidence_rate (cases per 1000 ppl per year)'\n",
    "    RISK_LABEL = 'risk (chance of developing bm before death)'\n",
    "    MIN_AT_RISK = 1000\n",
    "    the_dict = defaultdict(dict)\n",
    "    fvals = list(df[feature].unique())\n",
    "    for fval in fvals:\n",
    "        # only keep the earliest record per patient per feature value\n",
    "        dfslice = df[df[feature]==fval][['patient_id', 'diagnosis_year', 'timerange', 'timepoint2', 'observed']]\n",
    "        dfslice.sort_values(by=['patient_id', 'diagnosis_year'], ascending=[True, True], ignore_index=True)\n",
    "        dfslice = dfslice.drop_duplicates(subset=['patient_id'], keep='first', ignore_index=True)\n",
    "\n",
    "        if dfslice.shape[0] > MIN_AT_RISK:\n",
    "            the_dict[fval]['at_risk'] = dfslice.shape[0]\n",
    "            the_dict[fval]['developed_bm'] = dfslice['observed'].sum()\n",
    "            the_dict[fval]['people_years'] = dfslice['timerange'].sum()\n",
    "            the_dict[fval][INCIDENCE_LABEL] = (the_dict[fval]['developed_bm'] / the_dict[fval]['people_years']) * 1000\n",
    "            the_dict[fval][RISK_LABEL] = (the_dict[fval]['developed_bm'] / the_dict[fval]['at_risk']) * 100\n",
    "\n",
    "    idf = pd.DataFrame.from_dict(data=the_dict, orient='index')\n",
    "    idf['people_years'] = idf['people_years'].apply(int)\n",
    "    idf['developed_bm'] = idf['developed_bm'].apply(int)\n",
    "    idf = idf.sort_values(by=INCIDENCE_LABEL, ascending=False)\n",
    "    # idf = idf.sort_values(by=RISK_LABEL, ascending=False)\n",
    "    print(idf.head(20))\n",
    "    return idf\n",
    "\n"
   ]
  },
  {
   "cell_type": "code",
   "execution_count": 161,
   "metadata": {},
   "outputs": [
    {
     "name": "stdout",
     "output_type": "stream",
     "text": [
      "                                  at_risk  developed_bm  people_years  incidence_rate (cases per 1000 ppl per year)  risk (chance of developing bm before death)\n",
      "Larynx                               4309            84         17257                                          4.87                                         1.95\n",
      "Urinary Bladder                     24433           326         90353                                          3.61                                         1.33\n",
      "Prostate                            40732           630        177794                                          3.54                                         1.55\n",
      "Cervix                               1798            23          6790                                          3.39                                         1.28\n",
      "Throat                               1701            19          5921                                          3.21                                         1.12\n",
      "Ureter                               1291            13          4616                                          2.82                                         1.01\n",
      "Oral                                11126           123         43744                                          2.81                                         1.11\n",
      "Other Endocrine including Thymus     3113            34         12555                                          2.71                                         1.09\n",
      "Anus, Anal Canal and Anorectum       3114            31         11909                                          2.60                                         1.00\n",
      "Uterus                               9330            89         35390                                          2.51                                         0.95\n",
      "CNS                                 11786           107         42843                                          2.50                                         0.91\n",
      "Esophagus                            2954            20          8403                                          2.38                                         0.68\n",
      "Vulva                                4420            44         18558                                          2.37                                         1.00\n",
      "Lung and Bronchus                   33791           259        110593                                          2.34                                         0.77\n",
      "Breast                              54702           535        232109                                          2.30                                         0.98\n",
      "Skin                                56950           500        226652                                          2.21                                         0.88\n",
      "Hodgkin Lymphoma                     1079             9          4161                                          2.16                                         0.83\n",
      "Kidney and Renal Pelvis             14888           123         57097                                          2.15                                         0.83\n",
      "Colorectal                          28449           232        110313                                          2.10                                         0.82\n",
      "Miscellaneous                       13346            86         42106                                          2.04                                         0.64\n"
     ]
    },
    {
     "data": {
      "image/png": "[encoded data removed]",
      "text/plain": [
       "<Figure size 640x480 with 1 Axes>"
      ]
     },
     "metadata": {},
     "output_type": "display_data"
    }
   ],
   "source": [
    "incidence_df['timerange'] = incidence_df['timepoint2'] - incidence_df['diagnosis_year']\n",
    "calc_incidence_rates('cancer_group', incidence_df)\n",
    "plot_survival(incidence_df.loc[incidence_df['cancer_group']=='Lung and Bronchus'], 'Lung and Bronchus')\n",
    "plot_survival(incidence_df.loc[incidence_df['cancer_group']=='Kidney and Renal Pelvis'], 'Kidney and Renal Pelvis')\n",
    "plot_survival(incidence_df.loc[incidence_df['cancer_group']=='Colorectal'], 'Colorectal')\n",
    "plot_survival(incidence_df.loc[incidence_df['cancer_group']=='Prostate'], 'Prostate')\n",
    "plot_survival(incidence_df.loc[incidence_df['cancer_group']=='Breast'], 'Breast')\n",
    "\n",
    "# idf = calc_incidence_rates('hist_type_descr', incidence_df)\n",
    "# idf = calc_incidence_rates('hist_cateogry', incidence_df)"
   ]
  },
  {
   "cell_type": "markdown",
   "metadata": {},
   "source": [
    "<br>\n",
    "<br>\n",
    "<br>\n",
    "<br>\n",
    "<br>\n",
    "<br>\n",
    "<br>\n",
    "<br>\n",
    "<br>\n",
    "<br>\n",
    "\n",
    "-------------------------------"
   ]
  },
  {
   "cell_type": "markdown",
   "metadata": {},
   "source": [
    "patient has 2+ years on record"
   ]
  },
  {
   "cell_type": "code",
   "execution_count": null,
   "metadata": {},
   "outputs": [],
   "source": [
    "# print('\\nstarting shape:')\n",
    "# print(df.shape)\n",
    "# pids = df.groupby('patient_id', as_index=False)['diagnosis_year'].nunique()\n",
    "# print('\\nnum unique diagnosis_years per patient')\n",
    "# print(pids.shape)\n",
    "# print(pids.head())\n",
    "# pids = pids[pids['diagnosis_year'] >= 2]\n",
    "# keep_pids = pids['patient_id'].unique()\n",
    "# df = df[df['patient_id'].isin(keep_pids)]\n",
    "# print('\\nfinal shape:')\n",
    "# print(df.shape)\n",
    "# df.reset_index(drop=True, inplace=True)\n"
   ]
  },
  {
   "cell_type": "markdown",
   "metadata": {},
   "source": [
    "patient did not have brain met at first timepoint"
   ]
  },
  {
   "cell_type": "code",
   "execution_count": null,
   "metadata": {},
   "outputs": [],
   "source": [
    "# # sort by brain_met->year->pid so that first record will be earliest. \n",
    "# # if multiple records at first timepoint, if 1+ are marked brain met positive, these records will be the first.\n",
    "# num_brainmet_patients = len(df[df['brain_met']==True]['patient_id'].unique())\n",
    "# num_brainmet_records = df[df['brain_met']==True].shape[0]\n",
    "# num_nonbrainmet_patients = len(df[df['brain_met']==False]['patient_id'].unique())\n",
    "# num_nonbrainmet_records = df[df['brain_met']==False].shape[0]\n",
    "# print('\\nStart --- ')\n",
    "# print(f'Brain met: {num_brainmet_patients} patients, {num_brainmet_records} records')\n",
    "# print(f'No Brain met: {num_nonbrainmet_patients} patients, {num_nonbrainmet_records} records')\n",
    "\n",
    "# initial_pids = len(df['patient_id'].unique())\n",
    "# initial_records = df.shape[0]\n",
    "# df.sort_values(by=['patient_id', 'diagnosis_year', 'brain_met'], ascending=[True, True, False], ignore_index=True)\n",
    "# print('\\nsorted table:')\n",
    "# print(df[['patient_id', 'patient_death_year', 'diagnosis_year', 'brain_met']].head(15))\n",
    "\n",
    "# # select first record for each patient\n",
    "# first_records = df.drop_duplicates(subset=['patient_id'], keep='first', ignore_index=True)\n",
    "\n",
    "# # identify pids to keep (first record can't include brain met)\n",
    "# keep_pids = set(first_records[first_records['brain_met'] == False]['patient_id'].unique())\n",
    "# reject_pids = set(first_records[first_records['brain_met'] == True]['patient_id'].unique())\n",
    "\n",
    "# # do subsetting\n",
    "# df = df[df['patient_id'].isin(keep_pids)]\n",
    "\n",
    "# # reporting\n",
    "# final_pids = len(df['patient_id'].unique())\n",
    "# final_records = df.shape[0]\n",
    "\n",
    "# num_brainmet_patients = len(df[df['brain_met']==True]['patient_id'].unique())\n",
    "# num_brainmet_records = df[df['brain_met']==True].shape[0]\n",
    "# num_nonbrainmet_patients = len(df[df['brain_met']==False]['patient_id'].unique())\n",
    "# num_nonbrainmet_records = df[df['brain_met']==False].shape[0]\n",
    "# print('\\nEnd --- ')\n",
    "# print(f'\\nRemoved {initial_pids - final_pids} patients ({initial_records - final_records} records) who had brain met at initial contact')\n",
    "# print(f'Brain met: {num_brainmet_patients} patients, {num_brainmet_records} records')\n",
    "# print(f'No Brain met: {num_nonbrainmet_patients} patients, {num_nonbrainmet_records} records')\n",
    "\n",
    "# # print(df[['patient_id', 'patient_death_year', 'diagnosis_year', 'brain_met']].head(15))\n",
    "# # df[df['brain_met']==True][['patient_id', 'patient_death_year', 'diagnosis_year', 'brain_met']].head(15)\n",
    "# # # somewhat interesting - patients with multiple tumors, which had brain met at initial timepoint\n",
    "# # print(df[df['patient_id'].isin(reject_pids)][['patient_id', 'patient_death_year', 'diagnosis_year', 'brain_met']].head(20))\n",
    "\n"
   ]
  },
  {
   "cell_type": "markdown",
   "metadata": {},
   "source": [
    "second timepoint:\n",
    "- [observed] year patient developed brain met, or \n",
    "- [censored] year of death, or \n",
    "- [censored] last record date (still alive)"
   ]
  },
  {
   "cell_type": "code",
   "execution_count": null,
   "metadata": {},
   "outputs": [],
   "source": [
    "### build dataframe of patient info ###\n",
    "pinfo = pd.DataFrame(index=df['patient_id'])\n",
    "# print(pinfo.shape)\n",
    "# print(pinfo.head())\n",
    "\n",
    "# death year\n",
    "pinfo['death_year'] = df.groupby('patient_id')['patient_death_year'].first()\n",
    "# print(pinfo.shape)\n",
    "# print(pinfo.head())\n",
    "\n",
    "# brain met year (if applicable)\n",
    "pinfo['brainmet_year'] = df[df['brain_met']==True].groupby('patient_id')['diagnosis_year'].agg('min')\n",
    "# print(pinfo.shape)\n",
    "# print(pinfo.head())\n",
    "\n",
    "# last contact\n",
    "pinfo['last_contact'] = df.groupby('patient_id')['diagnosis_year'].agg('max')\n",
    "# print(pinfo.shape)\n",
    "# print(pinfo.head(15))\n",
    "\n",
    "### assigning timepoint 2 (multistage approach, reassigning for NaNs) ###\n",
    "# [observed] brain met \n",
    "pinfo['observed'] = True\n",
    "pinfo['timepoint2'] = pinfo['brainmet_year']\n",
    "pinfo.reset_index(inplace=True)\n",
    "print('\\nfirst assign')\n",
    "print(pinfo.shape)\n",
    "print(pinfo.head(10))\n",
    "\n",
    "# [censored] patient death year \n",
    "pinfo.loc[pinfo['timepoint2'].isna(), 'observed'] = False\n",
    "pinfo.loc[pinfo['timepoint2'].isna(), 'timepoint2'] = pinfo['death_year']\n",
    "print('\\nsecond assign')\n",
    "print(pinfo.shape)\n",
    "print(pinfo.head(10))\n",
    "\n",
    "# [censored] patient last contact\n",
    "pinfo.loc[pinfo['timepoint2'].isna(), 'timepoint2'] = pinfo['last_contact']\n",
    "print('\\nthird assign')\n",
    "print(pinfo.shape)\n",
    "print(pinfo.head(10))\n",
    "\n",
    "pinfo = pinfo.drop_duplicates(subset=['patient_id'], keep='first', ignore_index=True)\n",
    "print(pinfo['observed'].value_counts())\n",
    "print(pinfo.head(10))\n",
    "\n",
    "pinfo[pinfo['brainmet_year'].notna()].head()\n",
    "\n",
    "# print(df.shape)\n",
    "# print(df[['patient_id', 'patient_death_year', 'diagnosis_year', 'brain_met']].head(15))\n"
   ]
  },
  {
   "cell_type": "code",
   "execution_count": null,
   "metadata": {},
   "outputs": [],
   "source": [
    "df.loc[df['patient_id']==69340][['patient_id', 'cancer_type', 'diagnosis_year', 'patient_death_year', 'brain_met']]"
   ]
  },
  {
   "cell_type": "markdown",
   "metadata": {},
   "source": [
    "merge dataframes"
   ]
  },
  {
   "cell_type": "code",
   "execution_count": null,
   "metadata": {},
   "outputs": [],
   "source": [
    "\n",
    "\n",
    "assert set(pinfo['patient_id'].unique()) == set(df['patient_id'].unique())\n",
    "temp = pinfo[['patient_id', 'timepoint2', 'observed']]\n",
    "merged = df.merge(temp, on='patient_id')\n",
    "merged.reset_index(drop=True)\n",
    "merged.rename(columns={'diagnosis_year': 'timepoint1'}, inplace=True)\n",
    "merged['timepoint2'] = merged['timepoint2'].apply(int)\n",
    "merged = merged[merged['timepoint1']!=merged['timepoint2']]\n",
    "merged['timerange'] = merged['timepoint2'] - merged['timepoint1']\n",
    "merged = merged[merged['timerange'] > 0] # needed because of patients such as pid=1206082 (see below)\n",
    "print(merged.shape)\n",
    "# merged[merged['observed']==True][['patient_id', 'cancer_type', 'patient_death_year', 'brain_met', 'timepoint1', 'timepoint2', 'timerange', 'observed']]\n",
    "# merged.loc[merged['patient_id']==69340][['patient_id', 'cancer_type', 'patient_death_year', 'brain_met', 'timepoint1', 'timepoint2', 'observed']].head(10)\n",
    "# print(df.shape)\n",
    "# print(temp.shape)\n",
    "# print(merged.shape)\n",
    "# merged.rename(columns={'diagnosis_year': 'timepoint1'}, inplace=True)\n",
    "# print(merged[['patient_id', 'cancer_type', 'patient_death_year', 'brain_met', 'timepoint1', 'timepoint2', 'observed']].head(10))\n",
    "# print(df[['patient_id', 'cancer_type', 'patient_death_year', 'brain_met', 'diagnosis_year']].head(10))\n",
    "# merged.loc[df['patient_id']==69340]\n",
    "# merged[merged['brain_met']==True][['patient_id', 'cancer_type', 'patient_death_year', 'brain_met', 'timepoint1', 'timepoint2', 'observed']].head(10)\n"
   ]
  },
  {
   "cell_type": "code",
   "execution_count": null,
   "metadata": {},
   "outputs": [],
   "source": [
    "df[df['patient_id']==1206082][['patient_id', 'cancer_type', 'diagnosis_year', 'patient_death_year', 'brain_met']]"
   ]
  },
  {
   "cell_type": "code",
   "execution_count": null,
   "metadata": {},
   "outputs": [],
   "source": [
    "# print(merged[merged['observed']==False]['cancer_type'].value_counts())\n",
    "# print(merged[merged['observed']==True]['cancer_type'].value_counts())\n",
    "\n",
    "%matplotlib inline\n",
    "import matplotlib.pyplot as plt\n",
    "from sksurv.nonparametric import kaplan_meier_estimator\n",
    "\n",
    "def plot_survival(df: pd.DataFrame, label: str) -> None:\n",
    "    # mysubset = merged.loc[merged['cancer_type']=='Melanoma of the Skin']\n",
    "    # mysubset = merged.loc[merged['cancer_type']=='Lung and Bronchus']\n",
    "    time, survival_prob, conf_int = kaplan_meier_estimator(\n",
    "        df[\"observed\"], df[\"timerange\"], conf_type=\"log-log\"\n",
    "    )\n",
    "    plt.step(time, survival_prob, where=\"post\", label=label)\n",
    "    plt.fill_between(time, conf_int[0], conf_int[1], alpha=0.25, step=\"post\")\n",
    "    plt.ylim(0.9, 1)\n",
    "    plt.xlim(0.9, 11)\n",
    "    plt.ylabel(r\"est. probability of no brain metastasis\")\n",
    "    plt.xlabel(\"time $t$\")\n",
    "    plt.legend()\n",
    "    plt.title('Testing')\n",
    "\n",
    "plot_survival(merged.loc[merged['cancer_type']=='Prostate'], 'Prostate')\n",
    "plot_survival(merged.loc[merged['cancer_type']=='Breast'], 'Breast')\n",
    "plot_survival(merged.loc[merged['cancer_type']=='Melanoma of the Skin'], 'Melanoma of the Skin')\n",
    "plot_survival(merged.loc[merged['cancer_type']=='Lung and Bronchus'], 'Lung and Bronchus')\n"
   ]
  },
  {
   "cell_type": "code",
   "execution_count": null,
   "metadata": {},
   "outputs": [],
   "source": []
  },
  {
   "cell_type": "code",
   "execution_count": null,
   "metadata": {},
   "outputs": [],
   "source": []
  },
  {
   "cell_type": "code",
   "execution_count": null,
   "metadata": {},
   "outputs": [],
   "source": []
  }
 ],
 "metadata": {
  "kernelspec": {
   "display_name": "venv",
   "language": "python",
   "name": "python3"
  },
  "language_info": {
   "codemirror_mode": {
    "name": "ipython",
    "version": 3
   },
   "file_extension": ".py",
   "mimetype": "text/x-python",
   "name": "python",
   "nbconvert_exporter": "python",
   "pygments_lexer": "ipython3",
   "version": "3.11.5"
  }
 },
 "nbformat": 4,
 "nbformat_minor": 2
}
